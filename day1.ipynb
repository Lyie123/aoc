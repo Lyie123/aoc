{
  "cells": [
    {
      "cell_type": "code",
      "execution_count": 7,
      "metadata": {
        "id": "x27AKok3dBwr"
      },
      "outputs": [],
      "source": [
        "from itertools import tee\n",
        "from typing import List"
      ]
    },
    {
      "cell_type": "code",
      "execution_count": 8,
      "metadata": {
        "id": "Noqb5K-TC4rK"
      },
      "outputs": [],
      "source": [
        "data = [199, 200, 208, 210, 200, 207, 240, 269, 260, 263]"
      ]
    },
    {
      "cell_type": "markdown",
      "metadata": {},
      "source": [
        "## Part 1"
      ]
    },
    {
      "cell_type": "code",
      "execution_count": 9,
      "metadata": {
        "id": "tld2elqGEJVG"
      },
      "outputs": [],
      "source": [
        "def get_count_of_measurement_increases(measurements: List[int]) -> int:\n",
        "    a, b = tee(measurements, 2)\n",
        "    next(b, None)\n",
        "    pairwise = zip(a, b)\n",
        "    return sum(map(lambda x: x[1] > x[0], pairwise))"
      ]
    },
    {
      "cell_type": "code",
      "execution_count": 10,
      "metadata": {
        "id": "t72iFFC8SCsh"
      },
      "outputs": [],
      "source": [
        "assert get_count_of_measurement_increases(data) == 7"
      ]
    },
    {
      "cell_type": "markdown",
      "metadata": {},
      "source": [
        "## Part 2"
      ]
    },
    {
      "cell_type": "code",
      "execution_count": 11,
      "metadata": {
        "id": "-P9fHVqOjIpg"
      },
      "outputs": [],
      "source": [
        "def sliding_window(measurements: List[int], window_size: int) -> List[int]:\n",
        "    window = []\n",
        "    for index, _ in enumerate(measurements):\n",
        "        if index >= window_size-1:\n",
        "            window.append(sum(measurements[max(index-window_size+1, 0): index+1]))\n",
        "    return window"
      ]
    },
    {
      "cell_type": "code",
      "execution_count": 12,
      "metadata": {
        "id": "dfa_AvBkjgFp"
      },
      "outputs": [],
      "source": [
        "window = sliding_window(data, 3)\n",
        "assert get_count_of_measurement_increases(window) == 5"
      ]
    }
  ],
  "metadata": {
    "colab": {
      "collapsed_sections": [],
      "name": "day_1.ipynb",
      "provenance": []
    },
    "kernelspec": {
      "display_name": "Python 3",
      "name": "python3"
    },
    "language_info": {
      "codemirror_mode": {
        "name": "ipython",
        "version": 3
      },
      "file_extension": ".py",
      "mimetype": "text/x-python",
      "name": "python",
      "nbconvert_exporter": "python",
      "pygments_lexer": "ipython3",
      "version": "3.7.6"
    }
  },
  "nbformat": 4,
  "nbformat_minor": 0
}
