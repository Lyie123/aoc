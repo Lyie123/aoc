{
 "cells": [
  {
   "cell_type": "code",
   "execution_count": 3,
   "metadata": {},
   "outputs": [],
   "source": [
    "from enum import Enum"
   ]
  },
  {
   "cell_type": "markdown",
   "metadata": {},
   "source": [
    "## Part 1"
   ]
  },
  {
   "cell_type": "code",
   "execution_count": 17,
   "metadata": {},
   "outputs": [],
   "source": [
    "data = [\n",
    "    'forward 5',\n",
    "    'down 5',\n",
    "    'forward 8',\n",
    "    'up 3',\n",
    "    'down 8',\n",
    "    'forward 2'\n",
    "]"
   ]
  },
  {
   "cell_type": "code",
   "execution_count": 4,
   "metadata": {},
   "outputs": [],
   "source": [
    "class Move(Enum):\n",
    "    FORWARD = 'forward'\n",
    "    DOWN = 'down'\n",
    "    UP = 'up'\n",
    "\n",
    "class Submarine:\n",
    "    depth: int = 0\n",
    "    horizontal: int = 0\n",
    "\n",
    "    @property\n",
    "    def multiplied(self):\n",
    "        return self.depth*self.horizontal\n",
    "\n",
    "    def move(self, move: Move, steps: int) -> None:\n",
    "        if move == Move.FORWARD:\n",
    "            self.horizontal+=steps\n",
    "        elif move == Move.DOWN:\n",
    "            self.depth+=steps\n",
    "        elif move == Move.UP:\n",
    "            self.depth-=steps\n",
    "    \n",
    "    def __repr__(self) -> str:\n",
    "        return f'Submarine(depth={self.depth}, horizontal={self.horizontal}, multiplied={self.multiplied})'"
   ]
  },
  {
   "cell_type": "code",
   "execution_count": 18,
   "metadata": {},
   "outputs": [
    {
     "name": "stdout",
     "output_type": "stream",
     "text": [
      "Submarine(depth=10, horizontal=15, multiplied=150)\n"
     ]
    }
   ],
   "source": [
    "s = Submarine()\n",
    "\n",
    "for n in data:\n",
    "    move, steps = n.split(' ')\n",
    "    s.move(Move(move), int(steps))\n",
    "print(s)"
   ]
  },
  {
   "cell_type": "code",
   "execution_count": 19,
   "metadata": {},
   "outputs": [],
   "source": [
    "assert s.multiplied == 150"
   ]
  },
  {
   "cell_type": "markdown",
   "metadata": {},
   "source": [
    "## Part 2"
   ]
  },
  {
   "cell_type": "code",
   "execution_count": 20,
   "metadata": {},
   "outputs": [],
   "source": [
    "class SubmarineV2(Submarine):\n",
    "    aim = 0\n",
    "\n",
    "    def move(self, move: Move, steps: int) -> None:\n",
    "      if move == Move.DOWN:\n",
    "          self.aim+=steps\n",
    "      elif move == Move.UP:\n",
    "          self.aim-=steps\n",
    "      elif move == Move.FORWARD:\n",
    "          self.horizontal+=steps\n",
    "          self.depth+=self.aim*steps"
   ]
  },
  {
   "cell_type": "code",
   "execution_count": 21,
   "metadata": {},
   "outputs": [
    {
     "name": "stdout",
     "output_type": "stream",
     "text": [
      "Submarine(depth=60, horizontal=15, multiplied=900)\n"
     ]
    }
   ],
   "source": [
    "s = SubmarineV2()\n",
    "\n",
    "for n in data:\n",
    "    move, steps = n.split(' ')\n",
    "    s.move(Move(move), int(steps))\n",
    "print(s)"
   ]
  },
  {
   "cell_type": "code",
   "execution_count": 22,
   "metadata": {},
   "outputs": [],
   "source": [
    "assert s.multiplied == 900"
   ]
  }
 ],
 "metadata": {
  "interpreter": {
   "hash": "ea2669d74835f2faacafdb9b37ebee8b0c39bd52b3c017b1e62e1e2202e2adca"
  },
  "kernelspec": {
   "display_name": "Python 3.7.6 64-bit ('base': conda)",
   "language": "python",
   "name": "python3"
  },
  "language_info": {
   "codemirror_mode": {
    "name": "ipython",
    "version": 3
   },
   "file_extension": ".py",
   "mimetype": "text/x-python",
   "name": "python",
   "nbconvert_exporter": "python",
   "pygments_lexer": "ipython3",
   "version": "3.7.6"
  },
  "orig_nbformat": 4
 },
 "nbformat": 4,
 "nbformat_minor": 2
}
