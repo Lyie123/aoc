{
  "nbformat": 4,
  "nbformat_minor": 0,
  "metadata": {
    "colab": {
      "name": "day_1.ipynb",
      "provenance": [],
      "collapsed_sections": []
    },
    "kernelspec": {
      "name": "python3",
      "display_name": "Python 3"
    },
    "language_info": {
      "name": "python"
    }
  },
  "cells": [
    {
      "cell_type": "code",
      "metadata": {
        "id": "x27AKok3dBwr"
      },
      "source": [
        "from itertools import tee, islice, chain\n",
        "from typing import List\n",
        "import pytest"
      ],
      "execution_count": 1,
      "outputs": []
    },
    {
      "cell_type": "code",
      "metadata": {
        "id": "Noqb5K-TC4rK"
      },
      "source": [
        "example_data = [199, 200, 208, 210, 200, 207, 240, 269, 260, 263]"
      ],
      "execution_count": 2,
      "outputs": []
    },
    {
      "cell_type": "code",
      "metadata": {
        "id": "tld2elqGEJVG"
      },
      "source": [
        "def get_count_of_measurement_increases(measurements: List[int]) -> int:\n",
        "  a, b = tee(measurements, 2)\n",
        "  next(b, None)\n",
        "  pairwise = zip(a, b)\n",
        "  return sum(map(lambda x: x[1] > x[0], pairwise))"
      ],
      "execution_count": 3,
      "outputs": []
    },
    {
      "cell_type": "code",
      "metadata": {
        "id": "t72iFFC8SCsh"
      },
      "source": [
        "assert get_count_of_measurement_increases(example_data) == 7"
      ],
      "execution_count": 4,
      "outputs": []
    },
    {
      "cell_type": "code",
      "metadata": {
        "id": "-P9fHVqOjIpg"
      },
      "source": [
        "def sliding_window(measurements: List[int], window_size: int) -> int:\n",
        "  for index, _ in enumerate(measurements):\n",
        "    yield measurements[max(index-window_size+1, 0): index+1]"
      ],
      "execution_count": 5,
      "outputs": []
    },
    {
      "cell_type": "code",
      "metadata": {
        "id": "dfa_AvBkjgFp"
      },
      "source": [
        "window = 3\n",
        "result_window = filter(lambda x: len(x) == window, sliding_window(example_data, window))\n",
        "result_window = map(lambda x: sum(x), result_window)\n",
        "assert get_count_of_measurement_increases(result_window) == 5"
      ],
      "execution_count": 7,
      "outputs": []
    },
    {
      "cell_type": "code",
      "metadata": {
        "id": "44AiB6wC-OHI"
      },
      "source": [
        ""
      ],
      "execution_count": null,
      "outputs": []
    }
  ]
}