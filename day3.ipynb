{
 "cells": [
  {
   "cell_type": "code",
   "execution_count": 286,
   "metadata": {},
   "outputs": [],
   "source": [
    "from collections import Counter\n",
    "from typing import List, Set, Tuple\n",
    "import numpy as np"
   ]
  },
  {
   "cell_type": "code",
   "execution_count": 287,
   "metadata": {},
   "outputs": [],
   "source": [
    "diagnostic_report = ['00100', '11110', '10110', '10111', '10101', '01111', '00111', '11100', '10000', '11001', '00010', '01010']"
   ]
  },
  {
   "cell_type": "code",
   "execution_count": 288,
   "metadata": {},
   "outputs": [],
   "source": [
    "matrix = create_matrix(diagnostic_report).transpose()"
   ]
  },
  {
   "cell_type": "code",
   "execution_count": 289,
   "metadata": {},
   "outputs": [],
   "source": [
    "def create_matrix(report: List[str]) -> np.array:\n",
    "    matrix = [list(n) for n in report]\n",
    "    return np.array(matrix)\n",
    "\n",
    "def get_most_common_bit(bits: List[str]) -> int:\n",
    "    return max(sorted(bits, reverse=True), key=bits.count)\n",
    "\n",
    "def get_least_common_bit(bits: List[str]) -> int:\n",
    "    return min(sorted(bits), key=bits.count)\n",
    "\n",
    "def check_bit_criteria(bits: List[str], valid_rows: List[int]=None, criteria=get_most_common_bit) -> int:\n",
    "    if not valid_rows:\n",
    "        valid_rows = range(len(bits))\n",
    "    common_bit = criteria(list(bits[list(valid_rows)]))\n",
    "    bit_criteria_fullfilled = set([i for i, bit in enumerate(bits) if (bit == common_bit) and (i in valid_rows)])\n",
    "    return (common_bit, list(set(valid_rows) & bit_criteria_fullfilled))"
   ]
  },
  {
   "cell_type": "markdown",
   "metadata": {},
   "source": [
    "## Part 1"
   ]
  },
  {
   "cell_type": "code",
   "execution_count": 290,
   "metadata": {},
   "outputs": [],
   "source": [
    "\n",
    "ganma_bits = ''\n",
    "epsilon_bits = ''\n",
    "\n",
    "for bits in matrix:\n",
    "    ganma_bits+=check_bit_criteria(bits, criteria=get_most_common_bit)[0]\n",
    "    epsilon_bits+=check_bit_criteria(bits, criteria=get_least_common_bit)[0]\n",
    "\n",
    "ganma_dec = int(ganma_bits, 2)\n",
    "epsilon_dec = int(epsilon_bits, 2)"
   ]
  },
  {
   "cell_type": "code",
   "execution_count": 291,
   "metadata": {},
   "outputs": [],
   "source": [
    "assert ganma_dec*epsilon_dec == 198"
   ]
  },
  {
   "cell_type": "markdown",
   "metadata": {},
   "source": [
    "## Part 2"
   ]
  },
  {
   "cell_type": "code",
   "execution_count": 292,
   "metadata": {},
   "outputs": [],
   "source": [
    "# oxygen generator rating\n",
    "remaining_rows = range(matrix.shape[1])\n",
    "\n",
    "for bits in matrix:\n",
    "    result, remaining_rows = check_bit_criteria(bits, remaining_rows, criteria=get_most_common_bit)\n",
    "\n",
    "oxygen_bits = ''.join(matrix.transpose()[remaining_rows[0]])\n",
    "oxygen_dec = int(oxygen_bits, 2)"
   ]
  },
  {
   "cell_type": "code",
   "execution_count": 293,
   "metadata": {},
   "outputs": [],
   "source": [
    "# oxygen generator rating\n",
    "remaining_rows = range(matrix.shape[1])\n",
    "\n",
    "for bits in matrix:\n",
    "    result, remaining_rows = check_bit_criteria(bits, remaining_rows, criteria=get_least_common_bit)\n",
    "\n",
    "scrubber_bits = ''.join(matrix.transpose()[remaining_rows[0]])\n",
    "scrubber_dec = int(scrubber_bits, 2)"
   ]
  },
  {
   "cell_type": "code",
   "execution_count": 294,
   "metadata": {},
   "outputs": [],
   "source": [
    "assert oxygen_dec*scrubber_dec == 230"
   ]
  }
 ],
 "metadata": {
  "interpreter": {
   "hash": "ea2669d74835f2faacafdb9b37ebee8b0c39bd52b3c017b1e62e1e2202e2adca"
  },
  "kernelspec": {
   "display_name": "Python 3.7.6 64-bit ('base': conda)",
   "language": "python",
   "name": "python3"
  },
  "language_info": {
   "codemirror_mode": {
    "name": "ipython",
    "version": 3
   },
   "file_extension": ".py",
   "mimetype": "text/x-python",
   "name": "python",
   "nbconvert_exporter": "python",
   "pygments_lexer": "ipython3",
   "version": "3.8.10"
  },
  "orig_nbformat": 4
 },
 "nbformat": 4,
 "nbformat_minor": 2
}
