{
 "cells": [
  {
   "cell_type": "markdown",
   "metadata": {},
   "source": [
    "## Part 1"
   ]
  },
  {
   "cell_type": "code",
   "execution_count": 73,
   "metadata": {},
   "outputs": [],
   "source": [
    "from collections import Counter\n",
    "import numpy as np"
   ]
  },
  {
   "cell_type": "code",
   "execution_count": 97,
   "metadata": {},
   "outputs": [],
   "source": [
    "diagnostic_report = [\n",
    "    '00100', \n",
    "    '11110',\n",
    "    '10110',\n",
    "    '10111',\n",
    "    '10101',\n",
    "    '01111', \n",
    "    '00111',\n",
    "    '11100', \n",
    "    '10000', \n",
    "    '11001', \n",
    "    '00010',\n",
    "    '01010'\n",
    "]"
   ]
  },
  {
   "cell_type": "code",
   "execution_count": 98,
   "metadata": {},
   "outputs": [],
   "source": [
    "matrix = [list(n) for n in diagnostic_report]\n",
    "transposed_matrix = np.array(matrix).transpose()\n",
    "common_bits = [Counter(n).most_common(1)[0][0] for n in transposed_matrix]\n",
    "common_bits_bin = ''.join(common_bits)\n",
    "common_bits_bin_inverted = str.translate(common_bits_bin, str.maketrans({'0': '1', '1': '0'}))\n",
    "ganma = int(common_bits_bin, 2)\n",
    "epsilon = int(common_bits_bin_inverted, 2)"
   ]
  },
  {
   "cell_type": "code",
   "execution_count": 99,
   "metadata": {},
   "outputs": [],
   "source": [
    "assert ganma*epsilon == 198"
   ]
  },
  {
   "cell_type": "code",
   "execution_count": null,
   "metadata": {},
   "outputs": [],
   "source": []
  }
 ],
 "metadata": {
  "interpreter": {
   "hash": "ea2669d74835f2faacafdb9b37ebee8b0c39bd52b3c017b1e62e1e2202e2adca"
  },
  "kernelspec": {
   "display_name": "Python 3.7.6 64-bit ('base': conda)",
   "language": "python",
   "name": "python3"
  },
  "language_info": {
   "codemirror_mode": {
    "name": "ipython",
    "version": 3
   },
   "file_extension": ".py",
   "mimetype": "text/x-python",
   "name": "python",
   "nbconvert_exporter": "python",
   "pygments_lexer": "ipython3",
   "version": "3.7.6"
  },
  "orig_nbformat": 4
 },
 "nbformat": 4,
 "nbformat_minor": 2
}
